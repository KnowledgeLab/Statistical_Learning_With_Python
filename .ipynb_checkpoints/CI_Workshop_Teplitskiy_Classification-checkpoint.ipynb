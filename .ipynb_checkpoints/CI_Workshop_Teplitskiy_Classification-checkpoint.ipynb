{
 "metadata": {
  "name": "",
  "signature": "sha256:2c45f1d71af9ceb911d01c0c19433ccb67285a8a45c22d0fd0e7479123d06d9c"
 },
 "nbformat": 3,
 "nbformat_minor": 0,
 "worksheets": [
  {
   "cells": [
    {
     "cell_type": "markdown",
     "metadata": {},
     "source": [
      "#Building a Language Detector\n",
      "\n",
      "- builds on http://bugra.github.io/work/notes/2014-12-26/language-detector-via-scikit-learn/"
     ]
    },
    {
     "cell_type": "code",
     "collapsed": false,
     "input": [
      "%matplotlib inline"
     ],
     "language": "python",
     "metadata": {},
     "outputs": [],
     "prompt_number": 1
    },
    {
     "cell_type": "code",
     "collapsed": false,
     "input": [
      "import matplotlib.pyplot as plt\n",
      "import pandas as pd\n",
      "import numpy as np"
     ],
     "language": "python",
     "metadata": {},
     "outputs": [],
     "prompt_number": 36
    },
    {
     "cell_type": "markdown",
     "metadata": {},
     "source": [
      "### Example: Language of Tweets"
     ]
    },
    {
     "cell_type": "code",
     "collapsed": false,
     "input": [
      "from IPython.display import Image\n",
      "Image(url='http://i.imgur.com/Kr5sfJ8.png')"
     ],
     "language": "python",
     "metadata": {},
     "outputs": [
      {
       "html": [
        "<img src=\"http://i.imgur.com/Kr5sfJ8.png\"/>"
       ],
       "metadata": {},
       "output_type": "pyout",
       "prompt_number": 44,
       "text": [
        "<IPython.core.display.Image at 0x83f2290>"
       ]
      }
     ],
     "prompt_number": 44
    },
    {
     "cell_type": "markdown",
     "metadata": {},
     "source": [
      "##Data Description"
     ]
    },
    {
     "cell_type": "markdown",
     "metadata": {},
     "source": [
      "European Parliament Proceedings corpus\n",
      "- https://language-detection.googlecode.com/git-history/packages/packages/europarl-test.zip\n",
      "- 21 languages, 1000 sentences each \n"
     ]
    },
    {
     "cell_type": "markdown",
     "metadata": {},
     "source": [
      "##Import data and put it in pandas dataframe"
     ]
    },
    {
     "cell_type": "code",
     "collapsed": false,
     "input": [
      "import codecs\n",
      "lines = codecs.open('classification/europarl.txt', 'r', 'utf-8').readlines()\n",
      "lines = [l.split('\\t') for l in lines]"
     ],
     "language": "python",
     "metadata": {},
     "outputs": [],
     "prompt_number": 18
    },
    {
     "cell_type": "code",
     "collapsed": false,
     "input": [
      "df = pd.DataFrame(lines, columns=['language', 'text'])\n",
      "df.head()"
     ],
     "language": "python",
     "metadata": {},
     "outputs": [
      {
       "html": [
        "<div style=\"max-height:1000px;max-width:1500px;overflow:auto;\">\n",
        "<table border=\"1\" class=\"dataframe\">\n",
        "  <thead>\n",
        "    <tr style=\"text-align: right;\">\n",
        "      <th></th>\n",
        "      <th>language</th>\n",
        "      <th>text</th>\n",
        "    </tr>\n",
        "  </thead>\n",
        "  <tbody>\n",
        "    <tr>\n",
        "      <th>0</th>\n",
        "      <td> bg</td>\n",
        "      <td> \"\u0415\u0432\u0440\u043e\u043f\u0430 2020\" \u043d\u0435 \u0442\u0440\u044f\u0431\u0432\u0430 \u0434\u0430 \u0441\u0442\u0430\u0440\u0442\u0438\u0440\u0430 \u043d\u043e\u0432 \u043a\u043e\u043d\u043a\u0443\u0440...</td>\n",
        "    </tr>\n",
        "    <tr>\n",
        "      <th>1</th>\n",
        "      <td> bg</td>\n",
        "      <td> (CS) \u041d\u0430\u0439-\u0433\u043e\u043b\u044f\u043c\u0430\u0442\u0430 \u043d\u0435\u0441\u043f\u0440\u0430\u0432\u0435\u0434\u043b\u0438\u0432\u043e\u0441\u0442 \u043d\u0430 \u0441\u0435\u0433\u0430\u0448\u043d\u0430\u0442\u0430...</td>\n",
        "    </tr>\n",
        "    <tr>\n",
        "      <th>2</th>\n",
        "      <td> bg</td>\n",
        "      <td> (DE) \u0413-\u0436\u043e \u043f\u0440\u0435\u0434\u0441\u0435\u0434\u0430\u0442\u0435\u043b, \u0433-\u043d \u0447\u043b\u0435\u043d \u043d\u0430 \u041a\u043e\u043c\u0438\u0441\u0438\u044f\u0442\u0430, ...</td>\n",
        "    </tr>\n",
        "    <tr>\n",
        "      <th>3</th>\n",
        "      <td> bg</td>\n",
        "      <td> (DE) \u0413-\u043d \u043f\u0440\u0435\u0434\u0441\u0435\u0434\u0430\u0442\u0435\u043b, \u0431\u0438\u0445 \u0438\u0441\u043a\u0430\u043b \u0434\u0430 \u0437\u0430\u043f\u043e\u0447\u043d\u0430 \u0441 \u043a...</td>\n",
        "    </tr>\n",
        "    <tr>\n",
        "      <th>4</th>\n",
        "      <td> bg</td>\n",
        "      <td> (DE) \u0413-\u043d \u043f\u0440\u0435\u0434\u0441\u0435\u0434\u0430\u0442\u0435\u043b, \u0432\u044a\u043f\u0440\u043e\u0441\u044a\u0442 \u0437\u0430 \u043f\u0440\u0430\u0432\u0430\u0442\u0430 \u043d\u0430 \u0447...</td>\n",
        "    </tr>\n",
        "  </tbody>\n",
        "</table>\n",
        "</div>"
       ],
       "metadata": {},
       "output_type": "pyout",
       "prompt_number": 40,
       "text": [
        "  language                                               text\n",
        "0       bg  \"\u0415\u0432\u0440\u043e\u043f\u0430 2020\" \u043d\u0435 \u0442\u0440\u044f\u0431\u0432\u0430 \u0434\u0430 \u0441\u0442\u0430\u0440\u0442\u0438\u0440\u0430 \u043d\u043e\u0432 \u043a\u043e\u043d\u043a\u0443\u0440...\n",
        "1       bg  (CS) \u041d\u0430\u0439-\u0433\u043e\u043b\u044f\u043c\u0430\u0442\u0430 \u043d\u0435\u0441\u043f\u0440\u0430\u0432\u0435\u0434\u043b\u0438\u0432\u043e\u0441\u0442 \u043d\u0430 \u0441\u0435\u0433\u0430\u0448\u043d\u0430\u0442\u0430...\n",
        "2       bg  (DE) \u0413-\u0436\u043e \u043f\u0440\u0435\u0434\u0441\u0435\u0434\u0430\u0442\u0435\u043b, \u0433-\u043d \u0447\u043b\u0435\u043d \u043d\u0430 \u041a\u043e\u043c\u0438\u0441\u0438\u044f\u0442\u0430, ...\n",
        "3       bg  (DE) \u0413-\u043d \u043f\u0440\u0435\u0434\u0441\u0435\u0434\u0430\u0442\u0435\u043b, \u0431\u0438\u0445 \u0438\u0441\u043a\u0430\u043b \u0434\u0430 \u0437\u0430\u043f\u043e\u0447\u043d\u0430 \u0441 \u043a...\n",
        "4       bg  (DE) \u0413-\u043d \u043f\u0440\u0435\u0434\u0441\u0435\u0434\u0430\u0442\u0435\u043b, \u0432\u044a\u043f\u0440\u043e\u0441\u044a\u0442 \u0437\u0430 \u043f\u0440\u0430\u0432\u0430\u0442\u0430 \u043d\u0430 \u0447..."
       ]
      }
     ],
     "prompt_number": 40
    },
    {
     "cell_type": "code",
     "collapsed": false,
     "input": [
      "# how many of each language\n",
      "df.language.value_counts()"
     ],
     "language": "python",
     "metadata": {},
     "outputs": [
      {
       "metadata": {},
       "output_type": "pyout",
       "prompt_number": 43,
       "text": [
        "hu    1000\n",
        "nl    1000\n",
        "fi    1000\n",
        "ro    1000\n",
        "de    1000\n",
        "da    1000\n",
        "pt    1000\n",
        "pl    1000\n",
        "it    1000\n",
        "bg    1000\n",
        "sv    1000\n",
        "cs    1000\n",
        "sk    1000\n",
        "sl    1000\n",
        "lv    1000\n",
        "lt    1000\n",
        "el    1000\n",
        "en    1000\n",
        "et    1000\n",
        "es    1000\n",
        "fr    1000\n",
        "dtype: int64"
       ]
      }
     ],
     "prompt_number": 43
    },
    {
     "cell_type": "code",
     "collapsed": false,
     "input": [
      "# let's consider just two: english (en) and french (fr)\n",
      "df[df.language=='en'].head()"
     ],
     "language": "python",
     "metadata": {},
     "outputs": [
      {
       "html": [
        "<div style=\"max-height:1000px;max-width:1500px;overflow:auto;\">\n",
        "<table border=\"1\" class=\"dataframe\">\n",
        "  <thead>\n",
        "    <tr style=\"text-align: right;\">\n",
        "      <th></th>\n",
        "      <th>language</th>\n",
        "      <th>text</th>\n",
        "    </tr>\n",
        "  </thead>\n",
        "  <tbody>\n",
        "    <tr>\n",
        "      <th>5000</th>\n",
        "      <td> en</td>\n",
        "      <td>                   (BG) Thank you, Mr President.\\n</td>\n",
        "    </tr>\n",
        "    <tr>\n",
        "      <th>5001</th>\n",
        "      <td> en</td>\n",
        "      <td> (EL) Madam President, I agree and recognise Tu...</td>\n",
        "    </tr>\n",
        "    <tr>\n",
        "      <th>5002</th>\n",
        "      <td> en</td>\n",
        "      <td> (FI) Madam President, firstly, I would like to...</td>\n",
        "    </tr>\n",
        "    <tr>\n",
        "      <th>5003</th>\n",
        "      <td> en</td>\n",
        "      <td> (FI) Mr President, the Treaty of Lisbon will r...</td>\n",
        "    </tr>\n",
        "    <tr>\n",
        "      <th>5004</th>\n",
        "      <td> en</td>\n",
        "      <td> (FR) Madam President, one of the priorities of...</td>\n",
        "    </tr>\n",
        "  </tbody>\n",
        "</table>\n",
        "</div>"
       ],
       "metadata": {},
       "output_type": "pyout",
       "prompt_number": 38,
       "text": [
        "     language                                               text\n",
        "5000       en                    (BG) Thank you, Mr President.\\n\n",
        "5001       en  (EL) Madam President, I agree and recognise Tu...\n",
        "5002       en  (FI) Madam President, firstly, I would like to...\n",
        "5003       en  (FI) Mr President, the Treaty of Lisbon will r...\n",
        "5004       en  (FR) Madam President, one of the priorities of..."
       ]
      }
     ],
     "prompt_number": 38
    },
    {
     "cell_type": "code",
     "collapsed": false,
     "input": [
      "df_sub = df[df.language.isin(('da', 'de'))]"
     ],
     "language": "python",
     "metadata": {},
     "outputs": [],
     "prompt_number": 165
    },
    {
     "cell_type": "markdown",
     "metadata": {},
     "source": [
      "##Build classifier"
     ]
    },
    {
     "cell_type": "code",
     "collapsed": false,
     "input": [
      "from sklearn.feature_extraction.text import TfidfVectorizer, CountVectorizer\n",
      "from sklearn.linear_model import LogisticRegression\n",
      "from sklearn.cross_validation import train_test_split"
     ],
     "language": "python",
     "metadata": {},
     "outputs": [],
     "prompt_number": 166
    },
    {
     "cell_type": "markdown",
     "metadata": {},
     "source": [
      "###1. Engineer features we will use to predict"
     ]
    },
    {
     "cell_type": "code",
     "collapsed": false,
     "input": [
      "# vectorizer = TfidfVectorizer(ngram_range=(1,3),\n",
      "# #                              analyzer='char',\n",
      "#                              max_features=50)\n",
      "# #                             use_idf=False)\n",
      "\n",
      "vectorizer = CountVectorizer(max_features=50)\n",
      "\n",
      "\n",
      "X_features = vectorizer.fit_transform(df_sub.text)  # fit_transform() is like calling fit() and then predict()\n",
      "print X_features.shape, type(X_features)"
     ],
     "language": "python",
     "metadata": {},
     "outputs": [
      {
       "output_type": "stream",
       "stream": "stdout",
       "text": [
        "(2000, 50) <class 'scipy.sparse.csr.csr_matrix'>\n"
       ]
      }
     ],
     "prompt_number": 167
    },
    {
     "cell_type": "markdown",
     "metadata": {},
     "source": [
      "###2. Split into train and test sets"
     ]
    },
    {
     "cell_type": "code",
     "collapsed": false,
     "input": [
      "y = df_sub.language.values\n",
      "X_train, X_test, y_train, y_test = train_test_split(X_features, y, test_size=0.2, random_state=1)  \n",
      "#setting random_state=0 to make #sure we all get the same answer"
     ],
     "language": "python",
     "metadata": {},
     "outputs": [],
     "prompt_number": 168
    },
    {
     "cell_type": "code",
     "collapsed": false,
     "input": [
      "#composition of train and test sets\n",
      "print 'Composition of train set:', np.unique(y_train, return_counts=True)\n",
      "print 'Composition of test set:', np.unique(y_test, return_counts=True)"
     ],
     "language": "python",
     "metadata": {},
     "outputs": [
      {
       "output_type": "stream",
       "stream": "stdout",
       "text": [
        "Composition of train set: (array([u'da', u'de'], dtype=object), array([805, 795]))\n",
        "Composition of test set: (array([u'da', u'de'], dtype=object), array([195, 205]))\n"
       ]
      }
     ],
     "prompt_number": 169
    },
    {
     "cell_type": "markdown",
     "metadata": {},
     "source": [
      "###3. Train model"
     ]
    },
    {
     "cell_type": "code",
     "collapsed": false,
     "input": [
      "est = LogisticRegression()\n",
      "est.fit(X_train, y_train)\n",
      "\n",
      "y_predicted = est.predict(X_test)\n",
      "\n",
      "cm = metrics.confusion_matrix(y_test, y_predicted)\n",
      "cm"
     ],
     "language": "python",
     "metadata": {},
     "outputs": [
      {
       "metadata": {},
       "output_type": "pyout",
       "prompt_number": 170,
       "text": [
        "array([[194,   1],\n",
        "       [  1, 204]])"
       ]
      }
     ],
     "prompt_number": 170
    },
    {
     "cell_type": "markdown",
     "metadata": {},
     "source": [
      "###4. Evaluate model"
     ]
    },
    {
     "cell_type": "code",
     "collapsed": false,
     "input": [
      "from sklearn import metrics\n",
      "print metrics.accuracy_score(y_test, y_predicted)\n",
      "print metrics.classification_report(y_test, y_predicted)\n",
      "print pd.DataFrame(metrics.confusion_matrix(y_test, y_predicted))"
     ],
     "language": "python",
     "metadata": {},
     "outputs": [
      {
       "output_type": "stream",
       "stream": "stdout",
       "text": [
        "0.995\n",
        "             precision    recall  f1-score   support\n",
        "\n",
        "         da       0.99      0.99      0.99       195\n",
        "         de       1.00      1.00      1.00       205\n",
        "\n",
        "avg / total       0.99      0.99      0.99       400\n"
       ]
      },
      {
       "output_type": "stream",
       "stream": "stdout",
       "text": [
        "\n",
        "     0    1\n",
        "0  194    1\n",
        "1    1  204"
       ]
      },
      {
       "output_type": "stream",
       "stream": "stdout",
       "text": [
        "\n"
       ]
      }
     ],
     "prompt_number": 185
    },
    {
     "cell_type": "markdown",
     "metadata": {},
     "source": [
      "#Examine the coefficients"
     ]
    },
    {
     "cell_type": "code",
     "collapsed": false,
     "input": [
      "pd.DataFrame(zip(vectorizer.get_feature_names(), np.transpose(est.coef_[0]))).sort(1)"
     ],
     "language": "python",
     "metadata": {},
     "outputs": [
      {
       "html": [
        "<div style=\"max-height:1000px;max-width:1500px;overflow:auto;\">\n",
        "<table border=\"1\" class=\"dataframe\">\n",
        "  <thead>\n",
        "    <tr style=\"text-align: right;\">\n",
        "      <th></th>\n",
        "      <th>0</th>\n",
        "      <th>1</th>\n",
        "    </tr>\n",
        "  </thead>\n",
        "  <tbody>\n",
        "    <tr>\n",
        "      <th>33</th>\n",
        "      <td>     og</td>\n",
        "      <td>-1.908153</td>\n",
        "    </tr>\n",
        "    <tr>\n",
        "      <th>11</th>\n",
        "      <td>    det</td>\n",
        "      <td>-1.522784</td>\n",
        "    </tr>\n",
        "    <tr>\n",
        "      <th>28</th>\n",
        "      <td>    jeg</td>\n",
        "      <td>-1.414387</td>\n",
        "    </tr>\n",
        "    <tr>\n",
        "      <th>24</th>\n",
        "      <td>   ikke</td>\n",
        "      <td>-1.383012</td>\n",
        "    </tr>\n",
        "    <tr>\n",
        "      <th>20</th>\n",
        "      <td>    for</td>\n",
        "      <td>-1.368012</td>\n",
        "    </tr>\n",
        "    <tr>\n",
        "      <th>41</th>\n",
        "      <td>    til</td>\n",
        "      <td>-1.358949</td>\n",
        "    </tr>\n",
        "    <tr>\n",
        "      <th>0 </th>\n",
        "      <td>     af</td>\n",
        "      <td>-1.334316</td>\n",
        "    </tr>\n",
        "    <tr>\n",
        "      <th>34</th>\n",
        "      <td>     om</td>\n",
        "      <td>-1.266235</td>\n",
        "    </tr>\n",
        "    <tr>\n",
        "      <th>18</th>\n",
        "      <td>     et</td>\n",
        "      <td>-1.261124</td>\n",
        "    </tr>\n",
        "    <tr>\n",
        "      <th>6 </th>\n",
        "      <td>     de</td>\n",
        "      <td>-1.216661</td>\n",
        "    </tr>\n",
        "    <tr>\n",
        "      <th>15</th>\n",
        "      <td>     en</td>\n",
        "      <td>-1.210427</td>\n",
        "    </tr>\n",
        "    <tr>\n",
        "      <th>1 </th>\n",
        "      <td>     at</td>\n",
        "      <td>-1.114194</td>\n",
        "    </tr>\n",
        "    <tr>\n",
        "      <th>40</th>\n",
        "      <td>    som</td>\n",
        "      <td>-1.096830</td>\n",
        "    </tr>\n",
        "    <tr>\n",
        "      <th>44</th>\n",
        "      <td>    vil</td>\n",
        "      <td>-1.039604</td>\n",
        "    </tr>\n",
        "    <tr>\n",
        "      <th>35</th>\n",
        "      <td>     p\u00e5</td>\n",
        "      <td>-0.964569</td>\n",
        "    </tr>\n",
        "    <tr>\n",
        "      <th>39</th>\n",
        "      <td>   skal</td>\n",
        "      <td>-0.923636</td>\n",
        "    </tr>\n",
        "    <tr>\n",
        "      <th>43</th>\n",
        "      <td>     vi</td>\n",
        "      <td>-0.900284</td>\n",
        "    </tr>\n",
        "    <tr>\n",
        "      <th>30</th>\n",
        "      <td>    med</td>\n",
        "      <td>-0.838222</td>\n",
        "    </tr>\n",
        "    <tr>\n",
        "      <th>16</th>\n",
        "      <td>     er</td>\n",
        "      <td>-0.836420</td>\n",
        "    </tr>\n",
        "    <tr>\n",
        "      <th>22</th>\n",
        "      <td>    har</td>\n",
        "      <td>-0.728595</td>\n",
        "    </tr>\n",
        "    <tr>\n",
        "      <th>29</th>\n",
        "      <td>    kan</td>\n",
        "      <td>-0.488843</td>\n",
        "    </tr>\n",
        "    <tr>\n",
        "      <th>19</th>\n",
        "      <td>     eu</td>\n",
        "      <td>-0.283876</td>\n",
        "    </tr>\n",
        "    <tr>\n",
        "      <th>8 </th>\n",
        "      <td>    den</td>\n",
        "      <td> 0.162022</td>\n",
        "    </tr>\n",
        "    <tr>\n",
        "      <th>31</th>\n",
        "      <td>    mit</td>\n",
        "      <td> 0.332221</td>\n",
        "    </tr>\n",
        "    <tr>\n",
        "      <th>5 </th>\n",
        "      <td>   dass</td>\n",
        "      <td> 0.545356</td>\n",
        "    </tr>\n",
        "    <tr>\n",
        "      <th>9 </th>\n",
        "      <td>    der</td>\n",
        "      <td> 0.605662</td>\n",
        "    </tr>\n",
        "    <tr>\n",
        "      <th>38</th>\n",
        "      <td>   sind</td>\n",
        "      <td> 0.660244</td>\n",
        "    </tr>\n",
        "    <tr>\n",
        "      <th>13</th>\n",
        "      <td>    ein</td>\n",
        "      <td> 0.740159</td>\n",
        "    </tr>\n",
        "    <tr>\n",
        "      <th>7 </th>\n",
        "      <td>    dem</td>\n",
        "      <td> 0.759937</td>\n",
        "    </tr>\n",
        "    <tr>\n",
        "      <th>25</th>\n",
        "      <td>     im</td>\n",
        "      <td> 0.785596</td>\n",
        "    </tr>\n",
        "    <tr>\n",
        "      <th>3 </th>\n",
        "      <td>    auf</td>\n",
        "      <td> 0.835238</td>\n",
        "    </tr>\n",
        "    <tr>\n",
        "      <th>2 </th>\n",
        "      <td>   auch</td>\n",
        "      <td> 0.855734</td>\n",
        "    </tr>\n",
        "    <tr>\n",
        "      <th>10</th>\n",
        "      <td>    des</td>\n",
        "      <td> 0.861662</td>\n",
        "    </tr>\n",
        "    <tr>\n",
        "      <th>48</th>\n",
        "      <td>   wird</td>\n",
        "      <td> 0.891155</td>\n",
        "    </tr>\n",
        "    <tr>\n",
        "      <th>45</th>\n",
        "      <td>    von</td>\n",
        "      <td> 0.903271</td>\n",
        "    </tr>\n",
        "    <tr>\n",
        "      <th>36</th>\n",
        "      <td>   sich</td>\n",
        "      <td> 0.928792</td>\n",
        "    </tr>\n",
        "    <tr>\n",
        "      <th>14</th>\n",
        "      <td>   eine</td>\n",
        "      <td> 0.974616</td>\n",
        "    </tr>\n",
        "    <tr>\n",
        "      <th>21</th>\n",
        "      <td>    f\u00fcr</td>\n",
        "      <td> 1.037406</td>\n",
        "    </tr>\n",
        "    <tr>\n",
        "      <th>37</th>\n",
        "      <td>    sie</td>\n",
        "      <td> 1.039062</td>\n",
        "    </tr>\n",
        "    <tr>\n",
        "      <th>49</th>\n",
        "      <td>     zu</td>\n",
        "      <td> 1.112139</td>\n",
        "    </tr>\n",
        "    <tr>\n",
        "      <th>4 </th>\n",
        "      <td>    das</td>\n",
        "      <td> 1.120210</td>\n",
        "    </tr>\n",
        "    <tr>\n",
        "      <th>17</th>\n",
        "      <td>     es</td>\n",
        "      <td> 1.122892</td>\n",
        "    </tr>\n",
        "    <tr>\n",
        "      <th>26</th>\n",
        "      <td>     in</td>\n",
        "      <td> 1.214364</td>\n",
        "    </tr>\n",
        "    <tr>\n",
        "      <th>46</th>\n",
        "      <td> werden</td>\n",
        "      <td> 1.314381</td>\n",
        "    </tr>\n",
        "    <tr>\n",
        "      <th>32</th>\n",
        "      <td>  nicht</td>\n",
        "      <td> 1.425174</td>\n",
        "    </tr>\n",
        "    <tr>\n",
        "      <th>27</th>\n",
        "      <td>    ist</td>\n",
        "      <td> 1.463807</td>\n",
        "    </tr>\n",
        "    <tr>\n",
        "      <th>42</th>\n",
        "      <td>    und</td>\n",
        "      <td> 1.505712</td>\n",
        "    </tr>\n",
        "    <tr>\n",
        "      <th>47</th>\n",
        "      <td>    wir</td>\n",
        "      <td> 1.661904</td>\n",
        "    </tr>\n",
        "    <tr>\n",
        "      <th>23</th>\n",
        "      <td>    ich</td>\n",
        "      <td> 1.689465</td>\n",
        "    </tr>\n",
        "    <tr>\n",
        "      <th>12</th>\n",
        "      <td>    die</td>\n",
        "      <td> 2.077244</td>\n",
        "    </tr>\n",
        "  </tbody>\n",
        "</table>\n",
        "</div>"
       ],
       "metadata": {},
       "output_type": "pyout",
       "prompt_number": 171,
       "text": [
        "         0         1\n",
        "33      og -1.908153\n",
        "11     det -1.522784\n",
        "28     jeg -1.414387\n",
        "24    ikke -1.383012\n",
        "20     for -1.368012\n",
        "41     til -1.358949\n",
        "0       af -1.334316\n",
        "34      om -1.266235\n",
        "18      et -1.261124\n",
        "6       de -1.216661\n",
        "15      en -1.210427\n",
        "1       at -1.114194\n",
        "40     som -1.096830\n",
        "44     vil -1.039604\n",
        "35      p\u00e5 -0.964569\n",
        "39    skal -0.923636\n",
        "43      vi -0.900284\n",
        "30     med -0.838222\n",
        "16      er -0.836420\n",
        "22     har -0.728595\n",
        "29     kan -0.488843\n",
        "19      eu -0.283876\n",
        "8      den  0.162022\n",
        "31     mit  0.332221\n",
        "5     dass  0.545356\n",
        "9      der  0.605662\n",
        "38    sind  0.660244\n",
        "13     ein  0.740159\n",
        "7      dem  0.759937\n",
        "25      im  0.785596\n",
        "3      auf  0.835238\n",
        "2     auch  0.855734\n",
        "10     des  0.861662\n",
        "48    wird  0.891155\n",
        "45     von  0.903271\n",
        "36    sich  0.928792\n",
        "14    eine  0.974616\n",
        "21     f\u00fcr  1.037406\n",
        "37     sie  1.039062\n",
        "49      zu  1.112139\n",
        "4      das  1.120210\n",
        "17      es  1.122892\n",
        "26      in  1.214364\n",
        "46  werden  1.314381\n",
        "32   nicht  1.425174\n",
        "27     ist  1.463807\n",
        "42     und  1.505712\n",
        "47     wir  1.661904\n",
        "23     ich  1.689465\n",
        "12     die  2.077244"
       ]
      }
     ],
     "prompt_number": 171
    }
   ],
   "metadata": {}
  }
 ]
}